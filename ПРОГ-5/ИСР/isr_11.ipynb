{
 "cells": [
  {
   "cell_type": "markdown",
   "metadata": {},
   "source": [
    "# Модуль datetime\r\n",
    "Модуль datetime предоставляет классы для обработки времени и даты разными способами. \r\n",
    "## Классы, предоставляемые модулем datetime:\r\n",
    "Класс ___datetime.date___(year, month, day) - стандартная дата. Атрибуты: year, month, day. Неизменяемый объект.\r\n",
    "\r\n",
    "Класс ___datetime.time___(hour=0, minute=0, second=0, microsecond=0, tzinfo=None) - стандартное время, не зависит от даты. Атрибуты: hour, minute, second, microsecond, tzinfo.\r\n",
    "\r\n",
    "Класс ___datetime.timedelta___ - разница между двумя моментами времени, с точностью до микросекунд.\r\n",
    "\r\n",
    "Класс ___datetime.tzinfo___ - абстрактный базовый класс для информации о временной зоне (например, для учета часового пояса и / или летнего времени).\r\n",
    "\r\n",
    "Класс ___datetime.datetime___ (year, month, day, hour=0, minute=0, second=0, microsecond=0, tzinfo=None) - комбинация даты и времени.\r\n",
    "\r\n",
    "Обязательные аргументы:\r\n",
    "+ datetime.MINYEAR (1) ≤ year ≤ datetime.MAXYEAR (9999)\r\n",
    "+ 1 ≤ month ≤ 12\r\n",
    "+ 1 ≤ day ≤ количество дней в данном месяце и году\r\n",
    "Необязательные:\r\n",
    "+ 0 ≤ minute < 60\r\n",
    "+ 0 ≤ second < 60\r\n",
    "+ 0 ≤ microsecond < 1000000\r\n"
   ]
  },
  {
   "cell_type": "markdown",
   "metadata": {},
   "source": [
    "__datetime.today()__ - объект datetime из текущей даты и времени. Работает также, как и datetime.now() со значением tz=None."
   ]
  },
  {
   "cell_type": "code",
   "execution_count": 3,
   "metadata": {},
   "outputs": [
    {
     "name": "stdout",
     "output_type": "stream",
     "text": [
      "2021-06-17\n"
     ]
    }
   ],
   "source": [
    "from datetime import datetime, date, time\r\n",
    "\r\n",
    "current_date = date.today()\r\n",
    "print(current_date)"
   ]
  },
  {
   "cell_type": "markdown",
   "metadata": {},
   "source": [
    "__datetime.fromtimestamp(timestamp)__ - дата из стандартного представления времени."
   ]
  },
  {
   "cell_type": "code",
   "execution_count": 7,
   "metadata": {},
   "outputs": [
    {
     "name": "stdout",
     "output_type": "stream",
     "text": [
      "2020-01-05\n",
      "2020-01-05 18:32:40\n"
     ]
    }
   ],
   "source": [
    "from datetime import datetime, date, time\r\n",
    "\r\n",
    "timestamp = date.fromtimestamp(1578238360)\r\n",
    "print(timestamp)\r\n",
    "\r\n",
    "timestamp2 = datetime.fromtimestamp(1578238360)\r\n",
    "print(timestamp2)"
   ]
  },
  {
   "cell_type": "markdown",
   "metadata": {},
   "source": [
    "__datetime.fromordinal(ordinal)__ - дата из числа, представляющего собой количество дней, прошедших с 01.01.1970."
   ]
  },
  {
   "cell_type": "code",
   "execution_count": 8,
   "metadata": {},
   "outputs": [
    {
     "name": "stdout",
     "output_type": "stream",
     "text": [
      "New year 2020 from ordinal 737425:2020-01-01\n"
     ]
    }
   ],
   "source": [
    "import datetime\r\n",
    "\r\n",
    "# Gregorian ordinal\r\n",
    "ordinal = 737425;\r\n",
    "\r\n",
    "date = datetime.date.fromordinal(ordinal);\r\n",
    "print(\"New year 2020 from ordinal %d:%s\"%(ordinal, date));"
   ]
  },
  {
   "cell_type": "markdown",
   "metadata": {},
   "source": [
    "__datetime.now(tz=None)__ - объект datetime из текущей даты и времени."
   ]
  },
  {
   "cell_type": "code",
   "execution_count": 13,
   "metadata": {},
   "outputs": [
    {
     "name": "stdout",
     "output_type": "stream",
     "text": [
      "2021-06-17 15:16:27.305082\n"
     ]
    }
   ],
   "source": [
    "from datetime import datetime\r\n",
    "\r\n",
    "date_now = datetime.now()\r\n",
    "print(date_now)"
   ]
  },
  {
   "cell_type": "markdown",
   "metadata": {},
   "source": [
    "__datetime.combine(date, time)__ - объект datetime из комбинации объектов date и time."
   ]
  },
  {
   "cell_type": "code",
   "execution_count": 17,
   "metadata": {},
   "outputs": [
    {
     "name": "stdout",
     "output_type": "stream",
     "text": [
      "2021-06-18 00:25:00\n"
     ]
    }
   ],
   "source": [
    "import datetime \r\n",
    "date = datetime.date.today() # дата\r\n",
    "time = datetime.time(23, 55) # время\r\n",
    "delta = datetime.timedelta(minutes=30) # интервал\r\n",
    "result = datetime.datetime.combine(date, time) + delta # соединяем все вместе\r\n",
    "print(result)\r\n"
   ]
  },
  {
   "cell_type": "markdown",
   "metadata": {},
   "source": [
    "__datetime.strptime(date_string, format)__ - преобразует строку в datetime "
   ]
  },
  {
   "cell_type": "code",
   "execution_count": 21,
   "metadata": {},
   "outputs": [
    {
     "name": "stdout",
     "output_type": "stream",
     "text": [
      "2021-04-24 16:22:54\n"
     ]
    }
   ],
   "source": [
    "import datetime\r\n",
    "date_str1 = 'Fri, 24 Apr 2021 16:22:54 +0000'\r\n",
    "format1 = '%a, %d %b %Y %H:%M:%S +0000'\r\n",
    "data = datetime.datetime.strptime(date_str1, format1)\r\n",
    "print(data)"
   ]
  },
  {
   "cell_type": "markdown",
   "metadata": {},
   "source": [
    "Источники\r\n",
    "+ https://docs-python.ru/standart-library/modul-datetime-python/klass-datetime-modulja-datetime/\r\n",
    "+ https://fixmypc.ru/post/rabota-s-datoi-i-vremenem-v-module-python-datetime/\r\n",
    "+ https://pythonru.com/primery/kak-ispolzovat-modul-datetime-v-python\r\n",
    "+ https://pythonworld.ru/moduli/modul-datetime.html\r\n"
   ]
  }
 ],
 "metadata": {
  "interpreter": {
   "hash": "38740d3277777e2cd7c6c2cc9d8addf5118fdf3f82b1b39231fd12aeac8aee8b"
  },
  "kernelspec": {
   "display_name": "Python 3.9.1 64-bit",
   "name": "python3"
  },
  "language_info": {
   "codemirror_mode": {
    "name": "ipython",
    "version": 3
   },
   "file_extension": ".py",
   "mimetype": "text/x-python",
   "name": "python",
   "nbconvert_exporter": "python",
   "pygments_lexer": "ipython3",
   "version": "3.9.1"
  },
  "orig_nbformat": 4
 },
 "nbformat": 4,
 "nbformat_minor": 2
}