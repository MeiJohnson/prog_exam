{
 "cells": [
  {
   "cell_type": "markdown",
   "metadata": {},
   "source": [
    "# Шаблон проектирования \"Адаптер\""
   ]
  },
  {
   "cell_type": "markdown",
   "metadata": {},
   "source": [
    "__Адаптер (Adapter)__ – это структурный паттерн, который позволяет адаптировать интерфейс класса в соответствии с требованиями системы. То есть, это своеобразная прослойка между классами, приводящая интерфейс одного класса к используемому в другом.\r\n",
    "\r\n",
    "# Диаграмма\r\n",
    "![Adapter UML](391.png \"Adapter UML\")\r\n",
    "\r\n",
    "+ __Target__ — целевой интерфейс, к которому нужно преобразовать интерфейс существующих классов;\r\n",
    "+ __Adaptee__ — существующий класс, чей интерфейс нужно преобразовать;\r\n",
    "+ __Adapter__ — класс-адаптер, который преобразует интерфейс адаптируемого класса к целевому;\r\n",
    "+ __Client__ — клиенты нового интерфейса, которые работают с адаптированными классами полиморфным образом."
   ]
  },
  {
   "cell_type": "markdown",
   "metadata": {},
   "source": [
    "Пример"
   ]
  },
  {
   "cell_type": "code",
   "execution_count": 1,
   "metadata": {},
   "outputs": [
    {
     "name": "stdout",
     "output_type": "stream",
     "text": [
      "Client: I can work just fine with the Target objects:\n",
      "Target: The default target's behavior.\n",
      "\n",
      "Client: The Adaptee class has a weird interface. See, I don't understand it:\n",
      "Adaptee: .eetpadA eht fo roivaheb laicepS\n",
      "\n",
      "Client: But I can work with it via the Adapter:\n",
      "Adapter: (TRANSLATED) Special behavior of the Adaptee."
     ]
    }
   ],
   "source": [
    "class Target:\r\n",
    "    \"\"\"\r\n",
    "    Целевой класс объявляет интерфейс, с которым может работать клиентский код.\r\n",
    "    \"\"\"\r\n",
    "\r\n",
    "    def request(self) -> str:\r\n",
    "        return \"Target: The default target's behavior.\"\r\n",
    "\r\n",
    "\r\n",
    "class Adaptee:\r\n",
    "    \"\"\"\r\n",
    "    Адаптируемый класс содержит некоторое полезное поведение, но его интерфейс\r\n",
    "    несовместим с существующим клиентским кодом. Адаптируемый класс нуждается в\r\n",
    "    некоторой доработке, прежде чем клиентский код сможет его использовать.\r\n",
    "    \"\"\"\r\n",
    "\r\n",
    "    def specific_request(self) -> str:\r\n",
    "        return \".eetpadA eht fo roivaheb laicepS\"\r\n",
    "\r\n",
    "\r\n",
    "class Adapter(Target, Adaptee):\r\n",
    "    \"\"\"\r\n",
    "    Адаптер делает интерфейс Адаптируемого класса совместимым с целевым\r\n",
    "    интерфейсом благодаря множественному наследованию.\r\n",
    "    \"\"\"\r\n",
    "\r\n",
    "    def request(self) -> str:\r\n",
    "        return f\"Adapter: (TRANSLATED) {self.specific_request()[::-1]}\"\r\n",
    "\r\n",
    "\r\n",
    "def client_code(target: \"Target\") -> None:\r\n",
    "    \"\"\"\r\n",
    "    Клиентский код поддерживает все классы, использующие интерфейс Target.\r\n",
    "    \"\"\"\r\n",
    "\r\n",
    "    print(target.request(), end=\"\")\r\n",
    "\r\n",
    "\r\n",
    "if __name__ == \"__main__\":\r\n",
    "    print(\"Client: I can work just fine with the Target objects:\")\r\n",
    "    target = Target()\r\n",
    "    client_code(target)\r\n",
    "    print(\"\\n\")\r\n",
    "\r\n",
    "    adaptee = Adaptee()\r\n",
    "    print(\"Client: The Adaptee class has a weird interface. \"\r\n",
    "          \"See, I don't understand it:\")\r\n",
    "    print(f\"Adaptee: {adaptee.specific_request()}\", end=\"\\n\\n\")\r\n",
    "\r\n",
    "    print(\"Client: But I can work with it via the Adapter:\")\r\n",
    "    adapter = Adapter()\r\n",
    "    client_code(adapter)"
   ]
  },
  {
   "cell_type": "markdown",
   "metadata": {},
   "source": [
    "Источники\r\n",
    "+ [https://shwanoff.ru/adapter/](1)\r\n",
    "+ [https://refactoring.guru/ru/design-patterns/adapter/python/example](2)"
   ]
  }
 ],
 "metadata": {
  "interpreter": {
   "hash": "38740d3277777e2cd7c6c2cc9d8addf5118fdf3f82b1b39231fd12aeac8aee8b"
  },
  "kernelspec": {
   "display_name": "Python 3.9.1 64-bit",
   "name": "python3"
  },
  "language_info": {
   "name": "python",
   "version": ""
  },
  "orig_nbformat": 4
 },
 "nbformat": 4,
 "nbformat_minor": 2
}